{
 "cells": [
  {
   "cell_type": "code",
   "execution_count": 4,
   "id": "c8845744",
   "metadata": {},
   "outputs": [],
   "source": [
    "import cv2\n",
    "import numpy as np"
   ]
  },
  {
   "cell_type": "code",
   "execution_count": 24,
   "id": "ff754ac5",
   "metadata": {},
   "outputs": [
    {
     "name": "stdout",
     "output_type": "stream",
     "text": [
      "(308, 308, 3)\n"
     ]
    }
   ],
   "source": [
    "original=cv2.imread(\"ostora.jpg\")\n",
    "\n",
    "\n",
    "print(original.shape)\n",
    "img = cv2.cvtColor(original, cv2.COLOR_BGR2GRAY) \n",
    "img=cv2.Laplacian(img,cv2.CV_64F)\n",
    "#ret, thresh3 = cv2.threshold(img, 170, 255, cv2.THRESH_TRUNC) \n",
    "\n",
    "img=cv2.add(img,40)\n",
    "\n",
    "img=cv2.medianBlur(original,9)\n",
    "#img=cv2.bilateralFilter(img, 5, 21, 21)\n",
    "\n",
    "\n",
    "\n",
    "\n",
    "#img = cv2.Canny(img,200,300,True)\n",
    "\n",
    "cv2.imshow(\"original\",original)\n",
    "cv2.imshow(\"enhancment\",img)\n",
    "\n",
    "cv2.waitKey(0)\n",
    "cv2.destroyAllWindows() "
   ]
  }
 ],
 "metadata": {
  "kernelspec": {
   "display_name": "Python 3 (ipykernel)",
   "language": "python",
   "name": "python3"
  },
  "language_info": {
   "codemirror_mode": {
    "name": "ipython",
    "version": 3
   },
   "file_extension": ".py",
   "mimetype": "text/x-python",
   "name": "python",
   "nbconvert_exporter": "python",
   "pygments_lexer": "ipython3",
   "version": "3.9.13"
  }
 },
 "nbformat": 4,
 "nbformat_minor": 5
}
